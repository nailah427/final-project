{
 "cells": [
  {
   "cell_type": "code",
   "execution_count": 1,
   "metadata": {},
   "outputs": [],
   "source": [
    "def yesnoques(question):\n",
    "    \"\"\"check question for correct format, then return y or n\"\"\"\n",
    "    print(question,\"(y/n)\")\n",
    "    ans=input()\n",
    "    while ans!=\"y\" and ans!=\"n\":\n",
    "        print(\"Please reenter your answer (y/n).\",question)\n",
    "        ans=input()\n",
    "    return ans"
   ]
  },
  {
   "cell_type": "code",
   "execution_count": 5,
   "metadata": {},
   "outputs": [
    {
     "name": "stdout",
     "output_type": "stream",
     "text": [
      "This is the suicide - self harm self-assessment. Please answer y/n to following questions.\n",
      "Do you feel hopeless about the present or future? (y/n)\n"
     ]
    },
    {
     "name": "stdin",
     "output_type": "stream",
     "text": [
      " y\n"
     ]
    },
    {
     "name": "stdout",
     "output_type": "stream",
     "text": [
      "Have you had thoughts about taking your life? (y/n)\n"
     ]
    },
    {
     "name": "stdin",
     "output_type": "stream",
     "text": [
      " y\n"
     ]
    },
    {
     "name": "stdout",
     "output_type": "stream",
     "text": [
      "When did you have these thoughts and do you have a plan to take your life?\n"
     ]
    },
    {
     "name": "stdin",
     "output_type": "stream",
     "text": [
      " too much\n"
     ]
    },
    {
     "name": "stdout",
     "output_type": "stream",
     "text": [
      "Have you ever attempted to harm yourself or attempted suicide? (y/n)\n"
     ]
    },
    {
     "name": "stdin",
     "output_type": "stream",
     "text": [
      " n\n"
     ]
    },
    {
     "name": "stdout",
     "output_type": "stream",
     "text": [
      "Please seek immediate attention from a trained clinician.\n"
     ]
    }
   ],
   "source": [
    "print(\"This is the suicide - self harm self-assessment. Please answer y/n to following questions.\")\n",
    "q1=yesnoques(\"Do you feel hopeless about the present or future?\")\n",
    "if q1==\"y\":\n",
    "    q2=yesnoques(\"Have you had thoughts about taking your life?\")\n",
    "    if q2==\"y\":\n",
    "        print(\"When did you have these thoughts and do you have a plan to take your life?\")\n",
    "        q3=input(\"\")\n",
    "        \"\"\"should insert chatbot function into here to reply\"\"\"\n",
    "q4=yesnoques(\"Have you ever attempted to harm yourself or attempted suicide?\")\n",
    "if q1==\"y\" or q2==\"y\" or q4==\"y\":\n",
    "    print(\"Please seek immediate attention from a trained clinician.\")"
   ]
  },
  {
   "cell_type": "markdown",
   "metadata": {},
   "source": [
    "1. Do you feel hopeless about the present or future?\n",
    " If yes move to question If no, go to question 4. \n",
    "2. Have you had thoughts about taking your life? \n",
    "If yes move onto question 3. \n",
    "3. When did you have these thoughts and do you have a plan to take your life? \n",
    "4. Have you ever attempted to harm yourself or attempted suicide?\n",
    "\n",
    "Interpretation: If the patient answered “yes” to any of the questions, seek immediate attention from a trained clinician. \n"
   ]
  },
  {
   "cell_type": "code",
   "execution_count": null,
   "metadata": {},
   "outputs": [],
   "source": []
  },
  {
   "cell_type": "code",
   "execution_count": null,
   "metadata": {},
   "outputs": [],
   "source": []
  }
 ],
 "metadata": {
  "kernelspec": {
   "display_name": "Python 3",
   "language": "python",
   "name": "python3"
  },
  "language_info": {
   "codemirror_mode": {
    "name": "ipython",
    "version": 3
   },
   "file_extension": ".py",
   "mimetype": "text/x-python",
   "name": "python",
   "nbconvert_exporter": "python",
   "pygments_lexer": "ipython3",
   "version": "3.7.6"
  }
 },
 "nbformat": 4,
 "nbformat_minor": 4
}
