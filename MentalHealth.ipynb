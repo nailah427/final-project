{
 "cells": [
  {
   "cell_type": "markdown",
   "metadata": {},
   "source": [
    "## Mental health Self-assessment chatbot\n",
    "    In the wake of the Coronavirus, mental health conversations have been happening all around the world."
   ]
  },
  {
   "cell_type": "code",
   "execution_count": 1,
   "metadata": {},
   "outputs": [],
   "source": [
    "from random import choice\n",
    "\n",
    "ComputerResponses = [] # list of all computer's questions\n",
    "PersonResponses = []  # list of all the person's responses\n",
    "\n",
    "def mentalHealth():\n",
    "\n",
    "    userComment = input(\"Computer >> Good morning, How are you doing today?\\nThe User >> \")\n",
    "\n",
    "    while userComment not in [\"exit\",\"goodbye\",\"quit\",\"bye\",\"exit\"]:\n",
    "        humanResponses.append(userComment)\n",
    "        response = respond(userComment)\n",
    "        if response in computerResponses:\n",
    "            response = \"Did you say, \"+response\n",
    "        computerResponses.append(response)\n",
    "        print(\"Computer >> \"+response)\n",
    "        userComment = input(\"The User >> \")\n",
    "    print(\"bye\")\n",
    "    "
   ]
  },
  {
   "cell_type": "code",
   "execution_count": null,
   "metadata": {},
   "outputs": [],
   "source": [
    "def respond(statement):\n",
    "    \"\"\" generate a computer response to the user's comment\"\"\"\n",
    "    if contains(statement,positivity):\n",
    "        return choice(positiveReaction)\n",
    "    if contains(statement,angryWords):\n",
    "        return choice(angryReaction)\n",
    "    if len(statement.split()) <= 2:  # respond to short answers...\n",
    "        return choice(briefResponses)\n",
    "    return choice(generalResponses)"
   ]
  }
 ],
 "metadata": {
  "kernelspec": {
   "display_name": "Python 3",
   "language": "python",
   "name": "python3"
  },
  "language_info": {
   "codemirror_mode": {
    "name": "ipython",
    "version": 3
   },
   "file_extension": ".py",
   "mimetype": "text/x-python",
   "name": "python",
   "nbconvert_exporter": "python",
   "pygments_lexer": "ipython3",
   "version": "3.7.6"
  }
 },
 "nbformat": 4,
 "nbformat_minor": 4
}
