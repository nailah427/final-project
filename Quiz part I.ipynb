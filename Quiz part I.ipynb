{
 "cells": [
  {
   "cell_type": "code",
   "execution_count": 9,
   "metadata": {},
   "outputs": [
    {
     "name": "stdout",
     "output_type": "stream",
     "text": [
      "This is a mental health assessment. We will ask some questions which you can answer on a scale of 1 to 5. \n",
      "On a scale of 1 to 5, how are you feeling today? Please input a number.4\n",
      "That's great to hear. Glad to hear you are doing well.\n",
      "Would you be interested in taking our stress level quiz? Please reply y or n.\n"
     ]
    }
   ],
   "source": [
    "print(\"This is a mental health assessment. We will ask some questions which you can answer on a scale of 1 to 5. \")\n",
    "answer = input(\"On a scale of 1 to 5, how are you feeling today? Please input a number.\")\n",
    "if answer == '5':\n",
    "    print(\"Awesome!\")\n",
    "elif answer == '4':\n",
    "    print(\"That's great to hear. Glad to hear you are doing well.\\nWould you be interested in taking our stress level quiz? Please reply y or n.\")\n",
    "elif answer == '3':\n",
    "        print(\"Okay. Continue the assessment and we will recommend ways to help.\")\n",
    "elif answer == '2':\n",
    "            print(\"Sorry to hear that. Please refer to our stress level quiz.\")\n",
    "elif answer == '1':\n",
    "    print(\"Sorry to hear. Just know that in this quiz we will recommend the right people and resources to help you feel better. First, please refer to our stress level quiz.\")\n",
    "#if answer <=2\n"
   ]
  },
  {
   "cell_type": "code",
   "execution_count": null,
   "metadata": {},
   "outputs": [],
   "source": []
  }
 ],
 "metadata": {
  "kernelspec": {
   "display_name": "Python 3",
   "language": "python",
   "name": "python3"
  },
  "language_info": {
   "codemirror_mode": {
    "name": "ipython",
    "version": 3
   },
   "file_extension": ".py",
   "mimetype": "text/x-python",
   "name": "python",
   "nbconvert_exporter": "python",
   "pygments_lexer": "ipython3",
   "version": "3.8.1"
  }
 },
 "nbformat": 4,
 "nbformat_minor": 4
}
